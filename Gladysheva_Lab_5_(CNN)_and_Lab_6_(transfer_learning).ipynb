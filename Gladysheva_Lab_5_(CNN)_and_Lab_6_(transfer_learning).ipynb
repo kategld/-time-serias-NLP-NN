{
 "cells": [
  {
   "cell_type": "markdown",
   "metadata": {
    "colab_type": "text",
    "id": "OAqC8xXmZ1Av"
   },
   "source": [
    "## Lab 5 - Convolutional Neural Network \"from scratch\"\n",
    "\n"
   ]
  },
  {
   "cell_type": "markdown",
   "metadata": {
    "colab_type": "text",
    "id": "3z8CfGD5Z1Ay"
   },
   "source": [
    "In Lab 5 and Lab 6 you will learn to distinguish dogs from cats!\n",
    "\n",
    "Data:\n",
    "https://drive.google.com/drive/folders/1nzVk4GOvKR6P87uPszUkKMPtaXV_wrZf?usp=sharing\n",
    "\n",
    "Fill all the necessary gaps and fit neural networks for solving the binary classification task.\n",
    "\n",
    "Task for Lab 5:\n",
    "\n",
    "1. Build and fit CNN with 3 convolutional layers for binary classification\n",
    "2. Evaluate accuracy on test data\n",
    "3. Plot the graphs for Loss(number_of_epochs) and Accuracy(number_of_epochs)\n",
    "\n",
    "First, let's load all the necessary functions:\n"
   ]
  },
  {
   "cell_type": "code",
   "execution_count": 65,
   "metadata": {},
   "outputs": [],
   "source": [
    "import matplotlib.pyplot as plt"
   ]
  },
  {
   "cell_type": "code",
   "execution_count": 1,
   "metadata": {
    "colab": {
     "base_uri": "https://localhost:8080/",
     "height": 35
    },
    "colab_type": "code",
    "id": "HyzNnZpdZ1A4",
    "outputId": "d588b0a5-de6a-426b-dd7e-f01f7ec78992"
   },
   "outputs": [
    {
     "name": "stderr",
     "output_type": "stream",
     "text": [
      "Using TensorFlow backend.\n"
     ]
    }
   ],
   "source": [
    "from keras.models import Sequential\n",
    "from keras.layers import Activation, Dropout, Flatten, Dense, Conv2D, MaxPooling2D\n",
    "from keras.applications import VGG16\n",
    "from keras.optimizers import Adam\n",
    "from keras.preprocessing.image import ImageDataGenerator"
   ]
  },
  {
   "cell_type": "markdown",
   "metadata": {
    "colab_type": "text",
    "id": "DS-6t0_XZ1BL"
   },
   "source": [
    "The images collected for training and testing the deep learning model must be prepared: split the entire set into a training, validation and test sample, observing the balancing of classes (with binary classification they should be approximately equal in all three samples).\n",
    "\n",
    "This has _already_ been done: in the Cats_and_Dogs directory there are three subdirectories: train, test and val - training, test and validation samples, respectively."
   ]
  },
  {
   "cell_type": "code",
   "execution_count": 3,
   "metadata": {
    "colab": {},
    "colab_type": "code",
    "id": "Ejt0NSnVZ1BP"
   },
   "outputs": [],
   "source": [
    "# Initialize the folders with train, test and validation datasets (in \"/My Drive/...\" or from your local repository where you have downloaded data):\n",
    "\n",
    "train = 'Cats_and_Dogs/Cats_and_Dogs/train'\n",
    "val =   'Cats_and_Dogs/Cats_and_Dogs/val'\n",
    "test =  'Cats_and_Dogs/Cats_and_Dogs/test'\n",
    "\n",
    "# The shape of the RGB image\n",
    "img_width, img_height, channels = 150, 150, 3 # you can try different sizes\n",
    "\n",
    "# input shape\n",
    "input_shape = (img_width, img_height, 3)\n",
    "# position matters!\n",
    "# Number_of_channels can be at the first or the last position\n",
    "# in our case - \"channels last\"\n",
    "\n",
    "# batch size\n",
    "batch_size = 64\n",
    "# train set size\n",
    "nb_train_samples = 20000\n",
    "# validation set size \n",
    "nb_validation_samples = 2490\n",
    "# test set size\n",
    "nb_test_samples = 2500"
   ]
  },
  {
   "cell_type": "markdown",
   "metadata": {
    "colab_type": "text",
    "id": "rYe-jLGbZ1Bh"
   },
   "source": [
    "## Prepare the data.\n",
    "\n",
    "You don’t have to manually change the shapes of 25000 images and convert them into the necessary format for keras (img_width, img_height, 3).\n",
    "\n",
    "We will use the built-in image preprocessing function for training deep neural networks _ImageGenerator_.\n",
    "\n",
    "It performs scaling, resizes selected images and prepares batches (mini-samples) to train the model."
   ]
  },
  {
   "cell_type": "code",
   "execution_count": 4,
   "metadata": {
    "colab": {
     "base_uri": "https://localhost:8080/",
     "height": 72
    },
    "colab_type": "code",
    "id": "Ncx9lh6LZ1Bk",
    "outputId": "74fe1156-17d2-4f45-f589-520a5fc2d0b8"
   },
   "outputs": [
    {
     "name": "stdout",
     "output_type": "stream",
     "text": [
      "Found 20000 images belonging to 2 classes.\n",
      "Found 2490 images belonging to 2 classes.\n",
      "Found 2500 images belonging to 2 classes.\n"
     ]
    }
   ],
   "source": [
    "datagen = ImageDataGenerator(rescale=1. / 255)\n",
    "\n",
    "train_generator = datagen.flow_from_directory(\n",
    "    train,\n",
    "    target_size=(img_width, img_height),\n",
    "    batch_size=batch_size,\n",
    "    class_mode='binary')\n",
    "\n",
    "val_generator = datagen.flow_from_directory(\n",
    "    val,\n",
    "    target_size=(img_width, img_height),\n",
    "    batch_size=batch_size,\n",
    "    class_mode='binary')\n",
    "\n",
    "test_generator = datagen.flow_from_directory(\n",
    "    test,\n",
    "    target_size=(img_width, img_height),\n",
    "    batch_size=batch_size,\n",
    "    class_mode='binary')"
   ]
  },
  {
   "cell_type": "markdown",
   "metadata": {
    "colab_type": "text",
    "id": "GthRQyZHZ1CI"
   },
   "source": [
    "Set the network architecture by sequentially adding layers to it:\n",
    "1. A convolutional layer with 16 neurons, filter size 3x3. Activation function - 'relu'\n",
    "2. MaxPooling layer with filter size 2x2.\n",
    "3. A convolutional layer with 32 neurons, filter size 3x3. Activation function - 'relu'\n",
    "4. MaxPooling layer with filter size 2x2.\n",
    "5. A convolutional layer with 64 neurons, filter size 3x3. Activation function - 'relu'\n",
    "6. MaxPooling layer with filter size 2x2.\n",
    "7. Operation model.add (Flatten ()), which makes a one-dimensional vector of the resulting feature maps.\n",
    "8. A fully connected layer with 64 neurons. Activation function - 'relu'\n",
    "9. Operation model.add (Dropout (0.5)) - excludes a neuron from the current layer with a 50% probability to avoid overfitting. retraining.\n",
    "10. A fully connected layer with 1 neuron. Activation function - 'sigmoid', because binary classification model.\n",
    "\n",
    "Add to the model all the missing layers, by analogy with the already specified.\n",
    "Keras documentation: https://keras.io/layers/about-keras-layers/"
   ]
  },
  {
   "cell_type": "code",
   "execution_count": 52,
   "metadata": {
    "colab": {},
    "colab_type": "code",
    "id": "yNik7qzRZ1CU"
   },
   "outputs": [],
   "source": [
    "model = Sequential()\n",
    "\n",
    "# 1: +Convolutional\n",
    "# For example:\n",
    "model.add(Conv2D(16, (3, 3), input_shape=(150, 150, 3)))\n",
    "#model.add(Conv2D(16, (3, 3)))\n",
    "model.add(Activation('relu'))\n",
    "\n",
    "# 2: +Pooling\n",
    "model.add(MaxPooling2D(pool_size=(2, 2), input_shape=(150, 150, 3)))\n",
    "# 3:\n",
    "model.add(Conv2D(32, (3, 3),input_shape=(150, 150, 3)))\n",
    "#     +Relu\n",
    "model.add(Activation('relu'))\n",
    "\n",
    "# 4:  +Pooling \n",
    "model.add(MaxPooling2D(pool_size=(2, 2), input_shape=(150, 150, 3)))\n",
    "# 5:  +Convolutional\n",
    "model.add(Conv2D(64, (3, 3),input_shape=(150, 150, 3)))\n",
    "#     +Relu\n",
    "model.add(Activation('relu'))\n",
    "# 6:  +Pooling\n",
    "model.add(MaxPooling2D(pool_size=(2, 2), input_shape=(150, 150, 3)))\n",
    "# 7:  +Flattening\n",
    "model.add(Flatten())\n",
    "# 8:  +Convolutional\n",
    "model.add(Dense(64, activation='relu', input_shape=(150, 150, 3)))\n",
    "#     +ReLu\n",
    " #9:  +Dropout\n",
    "model.add (Dropout (0.5))\n",
    "# 10: +Dense\n",
    "model.add(Dense(1,activation='sigmoid', input_shape=(150, 150, 3)))\n",
    "#     +Sigmoid\n"
   ]
  },
  {
   "cell_type": "code",
   "execution_count": 59,
   "metadata": {},
   "outputs": [],
   "source": [
    "model = Sequential()\n",
    "\n",
    "# 1: +Convolutional\n",
    "# For example:\n",
    "model.add(Conv2D(16, (3, 3), input_shape=(150, 150, 3)))\n",
    "#model.add(Conv2D(16, (3, 3)))\n",
    "model.add(Activation('relu'))\n",
    "\n",
    "# 2: +Pooling\n",
    "model.add(MaxPooling2D(pool_size=(2, 2)))\n",
    "# 3:\n",
    "model.add(Conv2D(32, (3, 3)))\n",
    "#     +Relu\n",
    "model.add(Activation('relu'))\n",
    "\n",
    "# 4:  +Pooling \n",
    "model.add(MaxPooling2D(pool_size=(2, 2)))\n",
    "# 5:  +Convolutional\n",
    "model.add(Conv2D(64, (3, 3),))\n",
    "#     +Relu\n",
    "model.add(Activation('relu'))\n",
    "# 6:  +Pooling\n",
    "model.add(MaxPooling2D(pool_size=(2, 2)))\n",
    "# 7:  +Flattening\n",
    "model.add(Flatten())\n",
    "# 8:  +Convolutional\n",
    "model.add(Dense(64, activation='relu'))\n",
    "#     +ReLu\n",
    " #9:  +Dropout\n",
    "model.add (Dropout (0.5))\n",
    "# 10: +Dense\n",
    "model.add(Dense(1,activation='sigmoid'))\n",
    "#     +Sigmoid\n"
   ]
  },
  {
   "cell_type": "code",
   "execution_count": 60,
   "metadata": {
    "colab": {},
    "colab_type": "code",
    "id": "0nNS5cLjZ1Cg"
   },
   "outputs": [],
   "source": [
    "model.compile(loss='binary_crossentropy',\n",
    "              optimizer='adam',\n",
    "              metrics=['accuracy'])"
   ]
  },
  {
   "cell_type": "code",
   "execution_count": 61,
   "metadata": {
    "colab": {},
    "colab_type": "code",
    "id": "BzqPxMJdZ1Cu"
   },
   "outputs": [
    {
     "name": "stdout",
     "output_type": "stream",
     "text": [
      "Epoch 1/10\n",
      "312/312 [==============================] - 386s 1s/step - loss: 0.6537 - accuracy: 0.6132 - val_loss: 0.6011 - val_accuracy: 0.7060\n",
      "Epoch 2/10\n",
      "312/312 [==============================] - 447s 1s/step - loss: 0.5501 - accuracy: 0.7185 - val_loss: 0.5672 - val_accuracy: 0.7374\n",
      "Epoch 3/10\n",
      "312/312 [==============================] - 429s 1s/step - loss: 0.4924 - accuracy: 0.7622 - val_loss: 0.3871 - val_accuracy: 0.7671\n",
      "Epoch 4/10\n",
      "312/312 [==============================] - 413s 1s/step - loss: 0.4485 - accuracy: 0.7957 - val_loss: 0.4252 - val_accuracy: 0.7993\n",
      "Epoch 5/10\n",
      "312/312 [==============================] - 401s 1s/step - loss: 0.4081 - accuracy: 0.8146 - val_loss: 0.3447 - val_accuracy: 0.7861\n",
      "Epoch 6/10\n",
      "312/312 [==============================] - 404s 1s/step - loss: 0.3725 - accuracy: 0.8325 - val_loss: 0.4405 - val_accuracy: 0.8054\n",
      "Epoch 7/10\n",
      "312/312 [==============================] - 409s 1s/step - loss: 0.3381 - accuracy: 0.8507 - val_loss: 0.4986 - val_accuracy: 0.8067\n",
      "Epoch 8/10\n",
      "312/312 [==============================] - 417s 1s/step - loss: 0.3046 - accuracy: 0.8675 - val_loss: 0.4235 - val_accuracy: 0.8124\n",
      "Epoch 9/10\n",
      "312/312 [==============================] - 406s 1s/step - loss: 0.2734 - accuracy: 0.8825 - val_loss: 0.5829 - val_accuracy: 0.7873\n",
      "Epoch 10/10\n",
      "312/312 [==============================] - 416s 1s/step - loss: 0.2427 - accuracy: 0.8963 - val_loss: 0.7106 - val_accuracy: 0.8124\n"
     ]
    }
   ],
   "source": [
    "# use the generator to train the model (analogue of the fit method)\n",
    "# 1 epoch of training on a CPU will take 4-6 minutes. The GPU is an ~order of magnitude faster.\n",
    "#epochs=, #try different number of epochs: 10, 15, 20; check the loss and accuracy;\n",
    "hystory=model.fit_generator(\n",
    "    train_generator,\n",
    "    steps_per_epoch=nb_train_samples // batch_size,\n",
    "    epochs=10,\n",
    "    validation_data=val_generator,\n",
    "    validation_steps=nb_validation_samples // batch_size)"
   ]
  },
  {
   "cell_type": "code",
   "execution_count": 62,
   "metadata": {
    "colab": {},
    "colab_type": "code",
    "id": "KBMrJqBHZ1DT"
   },
   "outputs": [
    {
     "name": "stdout",
     "output_type": "stream",
     "text": [
      "Accuracy on test data: 81.85%\n"
     ]
    }
   ],
   "source": [
    "scores = model.evaluate_generator(test_generator, nb_test_samples // batch_size)\n",
    "print(\"Accuracy on test data: %.2f%%\" % (scores[1]*100))"
   ]
  },
  {
   "cell_type": "markdown",
   "metadata": {
    "colab_type": "text",
    "id": "Mle_LO6XMJ62"
   },
   "source": [
    "Plot the graphs: \n",
    "\n",
    "Loss(Number of epochs)\n",
    "\n",
    "Accuracy(Number of epochs)"
   ]
  },
  {
   "cell_type": "code",
   "execution_count": 69,
   "metadata": {},
   "outputs": [
    {
     "data": {
      "image/png": "[encoded data removed]",
      "text/plain": [
       "<Figure size 432x288 with 1 Axes>"
      ]
     },
     "metadata": {
      "needs_background": "light"
     },
     "output_type": "display_data"
    }
   ],
   "source": [
    "plt.plot(hystory.history['accuracy'])\n",
    "plt.ylabel('accuracy')\n",
    "plt.xlabel('epoch')\n",
    "plt.legend(['train', 'test'], loc='upper left')\n",
    "plt.show()"
   ]
  },
  {
   "cell_type": "code",
   "execution_count": 70,
   "metadata": {},
   "outputs": [
    {
     "data": {
      "image/png": "[encoded data removed]",
      "text/plain": [
       "<Figure size 432x288 with 1 Axes>"
      ]
     },
     "metadata": {
      "needs_background": "light"
     },
     "output_type": "display_data"
    }
   ],
   "source": [
    "plt.plot(hystory.history['loss'])\n",
    "plt.ylabel('loss')\n",
    "plt.xlabel('epoch')\n",
    "plt.legend(['train', 'test'], loc='upper left')\n",
    "plt.show()"
   ]
  },
  {
   "cell_type": "markdown",
   "metadata": {
    "colab_type": "text",
    "id": "b2pVi2vEZ1Dk"
   },
   "source": [
    "![alt text](Deeper.jpeg )"
   ]
  },
  {
   "cell_type": "markdown",
   "metadata": {
    "colab_type": "text",
    "id": "bMceppSCZ1Dq"
   },
   "source": [
    "##  Lab 6 - Transfer Learning "
   ]
  },
  {
   "cell_type": "markdown",
   "metadata": {
    "colab_type": "text",
    "id": "QESIOnCPZ1Dz"
   },
   "source": [
    "##### Let's try to improve the quality of recognition, using the method of transfer lerning - \"transfer training.\" \n",
    "\n",
    "We will use weights of deep neural networks already trained on large dataset such as  ImageNet, and provide fine tuning of several additional dense layers on new data relevant to the current classification task. The more new images will differ from those on which the network has been trained, the more layers will need to be “retrained” in order to get good classification accuracy. The intuition here is that the model has already learned how to highlight the necessary features on the images in the large dataset, it only needs to be “tweaked” for a specific task.\n",
    "\n",
    "Task for Lab 6:\n",
    "\n",
    "1. Build and fit Transfer Learning model using pre-trained VGG16-model weights from keras application.\n",
    "2. Do the same with another avaliable pre-trained deep learning model from keras application.\n",
    "2. Evaluate accuracy on test data\n",
    "3. Plot the graphs for Loss(number_of_epochs) and Accuracy(number_of_epochs)\n",
    "4. Check the performance of your model with the custom image of cat or dog (so the model will tell which class this image belongs to)"
   ]
  },
  {
   "cell_type": "code",
   "execution_count": 71,
   "metadata": {
    "colab": {},
    "colab_type": "code",
    "id": "Md_9fT-nZ1D2"
   },
   "outputs": [
    {
     "name": "stdout",
     "output_type": "stream",
     "text": [
      "Downloading data from https://github.com/fchollet/deep-learning-models/releases/download/v0.1/vgg16_weights_tf_dim_ordering_tf_kernels_notop.h5\n",
      "58892288/58889256 [==============================] - 95s 2us/step\n",
      "Model: \"vgg16\"\n",
      "_________________________________________________________________\n",
      "Layer (type)                 Output Shape              Param #   \n",
      "=================================================================\n",
      "input_1 (InputLayer)         (None, 150, 150, 3)       0         \n",
      "_________________________________________________________________\n",
      "block1_conv1 (Conv2D)        (None, 150, 150, 64)      1792      \n",
      "_________________________________________________________________\n",
      "block1_conv2 (Conv2D)        (None, 150, 150, 64)      36928     \n",
      "_________________________________________________________________\n",
      "block1_pool (MaxPooling2D)   (None, 75, 75, 64)        0         \n",
      "_________________________________________________________________\n",
      "block2_conv1 (Conv2D)        (None, 75, 75, 128)       73856     \n",
      "_________________________________________________________________\n",
      "block2_conv2 (Conv2D)        (None, 75, 75, 128)       147584    \n",
      "_________________________________________________________________\n",
      "block2_pool (MaxPooling2D)   (None, 37, 37, 128)       0         \n",
      "_________________________________________________________________\n",
      "block3_conv1 (Conv2D)        (None, 37, 37, 256)       295168    \n",
      "_________________________________________________________________\n",
      "block3_conv2 (Conv2D)        (None, 37, 37, 256)       590080    \n",
      "_________________________________________________________________\n",
      "block3_conv3 (Conv2D)        (None, 37, 37, 256)       590080    \n",
      "_________________________________________________________________\n",
      "block3_pool (MaxPooling2D)   (None, 18, 18, 256)       0         \n",
      "_________________________________________________________________\n",
      "block4_conv1 (Conv2D)        (None, 18, 18, 512)       1180160   \n",
      "_________________________________________________________________\n",
      "block4_conv2 (Conv2D)        (None, 18, 18, 512)       2359808   \n",
      "_________________________________________________________________\n",
      "block4_conv3 (Conv2D)        (None, 18, 18, 512)       2359808   \n",
      "_________________________________________________________________\n",
      "block4_pool (MaxPooling2D)   (None, 9, 9, 512)         0         \n",
      "_________________________________________________________________\n",
      "block5_conv1 (Conv2D)        (None, 9, 9, 512)         2359808   \n",
      "_________________________________________________________________\n",
      "block5_conv2 (Conv2D)        (None, 9, 9, 512)         2359808   \n",
      "_________________________________________________________________\n",
      "block5_conv3 (Conv2D)        (None, 9, 9, 512)         2359808   \n",
      "_________________________________________________________________\n",
      "block5_pool (MaxPooling2D)   (None, 4, 4, 512)         0         \n",
      "=================================================================\n",
      "Total params: 14,714,688\n",
      "Trainable params: 0\n",
      "Non-trainable params: 14,714,688\n",
      "_________________________________________________________________\n"
     ]
    }
   ],
   "source": [
    "# First, download the weights of the VGG16 network trained on the ImageNet dataset:\n",
    "\n",
    "vgg16_net = VGG16(weights='imagenet', \n",
    "                  include_top=False,      # we take only the \"convolution\" part, the last layers we add ourselves\n",
    "                  input_shape=(150, 150, 3))\n",
    "vgg16_net.trainable = False               # clearly prescribe that we do NOT overload the network.\n",
    "                                          # Weights VGG16 in the process of learning will remain unchanged!\n",
    "\n",
    "vgg16_net.summary()                       # pay attention to the number of trained and untrained parameters"
   ]
  },
  {
   "cell_type": "markdown",
   "metadata": {
    "colab_type": "text",
    "id": "a_DTDXqWZ1EG"
   },
   "source": [
    "We construct our model of \"transfer learning\" by adding two fully connected layers to VGG16"
   ]
  },
  {
   "cell_type": "code",
   "execution_count": 72,
   "metadata": {
    "colab": {},
    "colab_type": "code",
    "id": "hKYlhGqTZ1EJ"
   },
   "outputs": [
    {
     "name": "stdout",
     "output_type": "stream",
     "text": [
      "Model: \"sequential_15\"\n",
      "_________________________________________________________________\n",
      "Layer (type)                 Output Shape              Param #   \n",
      "=================================================================\n",
      "vgg16 (Model)                (None, 4, 4, 512)         14714688  \n",
      "_________________________________________________________________\n",
      "flatten_15 (Flatten)         (None, 8192)              0         \n",
      "_________________________________________________________________\n",
      "dense_25 (Dense)             (None, 256)               2097408   \n",
      "_________________________________________________________________\n",
      "dropout_13 (Dropout)         (None, 256)               0         \n",
      "_________________________________________________________________\n",
      "dense_26 (Dense)             (None, 1)                 257       \n",
      "=================================================================\n",
      "Total params: 16,812,353\n",
      "Trainable params: 2,097,665\n",
      "Non-trainable params: 14,714,688\n",
      "_________________________________________________________________\n"
     ]
    }
   ],
   "source": [
    "# add layers to VGG16:\n",
    "\n",
    "model = Sequential()\n",
    "model.add(vgg16_net)\n",
    "\n",
    "# + flattening\n",
    "model.add(Flatten())\n",
    "# + dense connected layer with 256 neurons\n",
    "# + ReLu\n",
    "model.add(Dense(256, activation='relu'))\n",
    "# + Dropout\n",
    "model.add (Dropout (0.5))\n",
    "# + full layer with 1 neuron\n",
    "# + sigmoid\n",
    "model.add(Dense(1,activation='sigmoid'))\n",
    "model.summary()"
   ]
  },
  {
   "cell_type": "code",
   "execution_count": 73,
   "metadata": {
    "colab": {},
    "colab_type": "code",
    "id": "hKU1pQEeZ1Ea"
   },
   "outputs": [],
   "source": [
    "model.compile(loss='binary_crossentropy',\n",
    "              optimizer=Adam(lr=1e-5), \n",
    "              metrics=['accuracy'])"
   ]
  },
  {
   "cell_type": "markdown",
   "metadata": {
    "colab_type": "text",
    "id": "ZxBZMbzAZ1Ex"
   },
   "source": [
    "E.g., it was like:\n"
   ]
  },
  {
   "cell_type": "markdown",
   "metadata": {
    "colab_type": "text",
    "id": "CW-eEROdZ1FK"
   },
   "source": [
    "![alt text](VGG16.png )"
   ]
  },
  {
   "cell_type": "markdown",
   "metadata": {
    "colab_type": "text",
    "id": "XAPd3c7SZ1FP"
   },
   "source": [
    "and it becomes:"
   ]
  },
  {
   "cell_type": "markdown",
   "metadata": {
    "colab_type": "text",
    "id": "9poV5PlvZ1FT"
   },
   "source": [
    "![alt text](VGG162.png )"
   ]
  },
  {
   "cell_type": "code",
   "execution_count": 74,
   "metadata": {
    "colab": {},
    "colab_type": "code",
    "id": "gNX7L-MIZ1FX"
   },
   "outputs": [
    {
     "name": "stdout",
     "output_type": "stream",
     "text": [
      "Epoch 1/5\n",
      "312/312 [==============================] - 4231s 14s/step - loss: 0.5274 - accuracy: 0.7261 - val_loss: 0.3534 - val_accuracy: 0.8557\n",
      "Epoch 2/5\n",
      "312/312 [==============================] - 4213s 14s/step - loss: 0.3471 - accuracy: 0.8475 - val_loss: 0.2851 - val_accuracy: 0.8800\n",
      "Epoch 3/5\n",
      "312/312 [==============================] - 4219s 14s/step - loss: 0.3010 - accuracy: 0.8713 - val_loss: 0.2320 - val_accuracy: 0.8891\n",
      "Epoch 4/5\n",
      "312/312 [==============================] - 4232s 14s/step - loss: 0.2772 - accuracy: 0.8826 - val_loss: 0.2634 - val_accuracy: 0.8998\n",
      "Epoch 5/5\n",
      "312/312 [==============================] - 4212s 14s/step - loss: 0.2613 - accuracy: 0.8920 - val_loss: 0.1831 - val_accuracy: 0.8982\n"
     ]
    },
    {
     "data": {
      "text/plain": [
       "<keras.callbacks.callbacks.History at 0x5b034af408>"
      ]
     },
     "execution_count": 74,
     "metadata": {},
     "output_type": "execute_result"
    }
   ],
   "source": [
    "# We also use the generator to train the model (similar to the fit method)\n",
    "# Without using a GPU, learning 1 epoch of such a network will take about an hour. Plan your time =)\n",
    "# If you have access to a GPU, you can try 10-12 epochs - the quality should increase even more.\n",
    "\n",
    "model.fit_generator(\n",
    "    train_generator,\n",
    "    steps_per_epoch=nb_train_samples // batch_size,\n",
    "    epochs=5,\n",
    "    validation_data=val_generator,\n",
    "    validation_steps=nb_validation_samples // batch_size)"
   ]
  },
  {
   "cell_type": "code",
   "execution_count": 80,
   "metadata": {
    "colab": {},
    "colab_type": "code",
    "id": "vMCxq21YZ1Fh"
   },
   "outputs": [
    {
     "name": "stdout",
     "output_type": "stream",
     "text": [
      "Accuracy on test data: 88.46%\n"
     ]
    }
   ],
   "source": [
    "scores = model.evaluate_generator(test_generator, nb_test_samples // batch_size)\n",
    "print(\"Accuracy on test data: %.2f%%\" % (scores[1]*100))"
   ]
  },
  {
   "cell_type": "code",
   "execution_count": 78,
   "metadata": {},
   "outputs": [
    {
     "data": {
      "image/png": "[encoded data removed]",
      "text/plain": [
       "<Figure size 432x288 with 1 Axes>"
      ]
     },
     "metadata": {
      "needs_background": "light"
     },
     "output_type": "display_data"
    }
   ],
   "source": [
    "plt.plot(model.history.history['accuracy'])\n",
    "plt.ylabel('accuracy')\n",
    "plt.xlabel('epoch')\n",
    "plt.legend(['train', 'test'], loc='upper left')\n",
    "plt.show()"
   ]
  },
  {
   "cell_type": "code",
   "execution_count": 79,
   "metadata": {},
   "outputs": [
    {
     "data": {
      "image/png": "[encoded data removed]",
      "text/plain": [
       "<Figure size 432x288 with 1 Axes>"
      ]
     },
     "metadata": {
      "needs_background": "light"
     },
     "output_type": "display_data"
    }
   ],
   "source": [
    "plt.plot(model.history.history['loss'])\n",
    "plt.ylabel('loss')\n",
    "plt.xlabel('epoch')\n",
    "plt.legend(['train', 'test'], loc='upper left')\n",
    "plt.show()"
   ]
  },
  {
   "cell_type": "code",
   "execution_count": 87,
   "metadata": {},
   "outputs": [
    {
     "name": "stdout",
     "output_type": "stream",
     "text": [
      "Found 2 images belonging to 2 classes.\n"
     ]
    }
   ],
   "source": [
    "check='check'\n",
    "check_generator = datagen.flow_from_directory(\n",
    "    check,\n",
    "    target_size=(img_width, img_height),\n",
    "    batch_size=batch_size,\n",
    "    class_mode='binary')"
   ]
  },
  {
   "cell_type": "markdown",
   "metadata": {},
   "source": [
    "файлы из папки"
   ]
  },
  {
   "cell_type": "code",
   "execution_count": 91,
   "metadata": {},
   "outputs": [
    {
     "data": {
      "image/jpeg": "[encoded data removed]",
      "text/plain": [
       "<IPython.core.display.Image object>"
      ]
     },
     "execution_count": 91,
     "metadata": {},
     "output_type": "execute_result"
    }
   ],
   "source": [
    "from IPython.display import Image\n",
    "Image(filename='check/cats/Без названия.jpg')"
   ]
  },
  {
   "cell_type": "code",
   "execution_count": 92,
   "metadata": {},
   "outputs": [
    {
     "data": {
      "image/jpeg": "[encoded data removed]",
      "text/plain": [
       "<IPython.core.display.Image object>"
      ]
     },
     "execution_count": 92,
     "metadata": {},
     "output_type": "execute_result"
    }
   ],
   "source": [
    "Image(filename='check/dogs/dog.jpg')"
   ]
  },
  {
   "cell_type": "code",
   "execution_count": 98,
   "metadata": {},
   "outputs": [
    {
     "data": {
      "text/plain": [
       "array([[0.9295253 ],\n",
       "       [0.00402888]], dtype=float32)"
      ]
     },
     "execution_count": 98,
     "metadata": {},
     "output_type": "execute_result"
    }
   ],
   "source": [
    "model.predict(check_generator)"
   ]
  },
  {
   "cell_type": "code",
   "execution_count": null,
   "metadata": {},
   "outputs": [],
   "source": []
  }
 ],
 "metadata": {
  "colab": {
   "collapsed_sections": [],
   "name": "Lab 5 (CNN) and Lab 6 (transfer learning).ipynb",
   "provenance": [],
   "version": "0.3.2"
  },
  "kernelspec": {
   "display_name": "Python 3",
   "language": "python",
   "name": "python3"
  },
  "language_info": {
   "codemirror_mode": {
    "name": "ipython",
    "version": 3
   },
   "file_extension": ".py",
   "mimetype": "text/x-python",
   "name": "python",
   "nbconvert_exporter": "python",
   "pygments_lexer": "ipython3",
   "version": "3.7.4"
  }
 },
 "nbformat": 4,
 "nbformat_minor": 1
}
